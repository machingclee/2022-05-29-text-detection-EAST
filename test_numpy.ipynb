{
 "cells": [
  {
   "cell_type": "code",
   "execution_count": 1,
   "id": "bc5ba64a-1a2e-4b6d-94b7-ae3256b96dd3",
   "metadata": {},
   "outputs": [],
   "source": [
    "import numpy as np"
   ]
  },
  {
   "cell_type": "code",
   "execution_count": 6,
   "id": "e84a7bc5-8805-4c84-b6be-819ca422a7da",
   "metadata": {},
   "outputs": [
    {
     "data": {
      "text/plain": [
       "0.6827668845777966"
      ]
     },
     "execution_count": 6,
     "metadata": {},
     "output_type": "execute_result"
    }
   ],
   "source": [
    "np.random.rand()"
   ]
  },
  {
   "cell_type": "code",
   "execution_count": 26,
   "id": "7489a5b4-5f3d-45f7-9e45-c234964112f4",
   "metadata": {},
   "outputs": [],
   "source": [
    "index = np.arange(0, 512, int(1 / 0.25))\n",
    "index_x, index_y = np.meshgrid(index, index)"
   ]
  },
  {
   "cell_type": "code",
   "execution_count": 39,
   "id": "6191b382-0d37-401e-a3b2-ab4279f89d04",
   "metadata": {},
   "outputs": [
    {
     "data": {
      "text/plain": [
       "(128, 128)"
      ]
     },
     "execution_count": 39,
     "metadata": {},
     "output_type": "execute_result"
    }
   ],
   "source": [
    "index_x.shape"
   ]
  },
  {
   "cell_type": "code",
   "execution_count": 37,
   "id": "096c12b1-c0be-46fb-bc9c-db64c1800312",
   "metadata": {},
   "outputs": [
    {
     "name": "stdout",
     "output_type": "stream",
     "text": [
      "[[0 1 2 0 1 2 0 1 2]\n",
      " [0 0 0 1 1 1 2 2 2]]\n"
     ]
    }
   ],
   "source": [
    "index = np.arange(0, 3)\n",
    "x_, y_ =  np.meshgrid(index, index)\n",
    "x_.resize((1,x_.size))\n",
    "y_.resize((1,x_.size))\n",
    "print(np.concatenate((x_,y_), 0))"
   ]
  },
  {
   "cell_type": "code",
   "execution_count": 14,
   "id": "91c5d331-41b5-4e5c-b848-407f54648846",
   "metadata": {},
   "outputs": [],
   "source": [
    "import numpy as np\n",
    "v = np.array([1,2,3,4,5,6,7,8])"
   ]
  },
  {
   "cell_type": "code",
   "execution_count": 17,
   "id": "78e59408-95e0-46a5-9eb7-716efe840767",
   "metadata": {},
   "outputs": [
    {
     "data": {
      "text/plain": [
       "array([[1, 3],\n",
       "       [2, 4]])"
      ]
     },
     "execution_count": 17,
     "metadata": {},
     "output_type": "execute_result"
    }
   ],
   "source": [
    "v.reshape((4,2)).T[:, :2]"
   ]
  },
  {
   "cell_type": "code",
   "execution_count": 18,
   "id": "87ec1b0c-2e3c-4e93-9171-59f062b0e603",
   "metadata": {},
   "outputs": [],
   "source": [
    "x = np.arange(512)\n",
    "y = np.arange(512)\n",
    "x, y = np.meshgrid(x, y)\n",
    "x_lin = x.reshape((1, x.size))\n",
    "y_lin = y.reshape((1, x.size))"
   ]
  },
  {
   "cell_type": "code",
   "execution_count": 19,
   "id": "aa1368f2-c469-4a0b-b1d1-7bfead300b82",
   "metadata": {},
   "outputs": [
    {
     "data": {
      "text/plain": [
       "array([[  0,   1,   2, ..., 509, 510, 511]])"
      ]
     },
     "execution_count": 19,
     "metadata": {},
     "output_type": "execute_result"
    }
   ],
   "source": [
    "x_lin"
   ]
  },
  {
   "cell_type": "code",
   "execution_count": 20,
   "id": "506fb26a-65ac-46ac-9771-8daa9709b7cb",
   "metadata": {},
   "outputs": [
    {
     "data": {
      "text/plain": [
       "array([[  0,   0,   0, ..., 511, 511, 511]])"
      ]
     },
     "execution_count": 20,
     "metadata": {},
     "output_type": "execute_result"
    }
   ],
   "source": [
    "y_lin"
   ]
  },
  {
   "cell_type": "code",
   "execution_count": 25,
   "id": "64467cd5-b639-4945-a939-31ab7b7b9cd2",
   "metadata": {},
   "outputs": [
    {
     "data": {
      "text/plain": [
       "(1, 262144)"
      ]
     },
     "execution_count": 25,
     "metadata": {},
     "output_type": "execute_result"
    }
   ],
   "source": [
    "y_lin.shape"
   ]
  },
  {
   "cell_type": "code",
   "execution_count": 21,
   "id": "2193264e-8bc9-4bcc-bb4c-732e5b3dc5e0",
   "metadata": {},
   "outputs": [],
   "source": [
    "coord_mat = np.concatenate((x_lin, y_lin), 0)"
   ]
  },
  {
   "cell_type": "code",
   "execution_count": 41,
   "id": "8f27ba3d-f296-4791-b9a3-eeca719e55b1",
   "metadata": {},
   "outputs": [
    {
     "data": {
      "text/plain": [
       "array([[  0,   0,   0, ...,   0,   0,   0],\n",
       "       [  1,   1,   1, ...,   1,   1,   1],\n",
       "       [  2,   2,   2, ...,   2,   2,   2],\n",
       "       ...,\n",
       "       [509, 509, 509, ..., 509, 509, 509],\n",
       "       [510, 510, 510, ..., 510, 510, 510],\n",
       "       [511, 511, 511, ..., 511, 511, 511]])"
      ]
     },
     "execution_count": 41,
     "metadata": {},
     "output_type": "execute_result"
    }
   ],
   "source": [
    "coord_mat[1,:].reshape(x.shape)"
   ]
  },
  {
   "cell_type": "code",
   "execution_count": 42,
   "id": "7b0c5f53-b4f8-4038-85d3-07be5176965f",
   "metadata": {},
   "outputs": [],
   "source": [
    "from torchvision.models import vgg16"
   ]
  },
  {
   "cell_type": "code",
   "execution_count": 43,
   "id": "8e9b5072-6339-4ca6-92da-b9144ae95e1e",
   "metadata": {},
   "outputs": [],
   "source": [
    "vgg = vgg16()"
   ]
  },
  {
   "cell_type": "code",
   "execution_count": null,
   "id": "cfdabb63-5c95-4224-9bd2-72172c81c11a",
   "metadata": {},
   "outputs": [],
   "source": [
    "vgg."
   ]
  }
 ],
 "metadata": {
  "kernelspec": {
   "display_name": "dl",
   "language": "python",
   "name": "dl"
  },
  "language_info": {
   "codemirror_mode": {
    "name": "ipython",
    "version": 3
   },
   "file_extension": ".py",
   "mimetype": "text/x-python",
   "name": "python",
   "nbconvert_exporter": "python",
   "pygments_lexer": "ipython3",
   "version": "3.8.13"
  }
 },
 "nbformat": 4,
 "nbformat_minor": 5
}
